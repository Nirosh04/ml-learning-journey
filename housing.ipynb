{
 "cells": [
  {
   "cell_type": "code",
   "execution_count": null,
   "id": "827654c7",
   "metadata": {},
   "outputs": [
    {
     "name": "stdout",
     "output_type": "stream",
     "text": [
      "mean_squared_error: 4778547424.025956\n",
      "mean_absolute_error: 49645.49244453642\n",
      "r2_score: 0.635339233523819\n"
     ]
    }
   ],
   "source": [
    "\n",
    "from sklearn.preprocessing import OneHotEncoder, StandardScaler\n",
    "from sklearn.compose import ColumnTransformer\n",
    "from sklearn.pipeline import Pipeline\n",
    "from sklearn.impute import SimpleImputer\n",
    "import pandas as pd\n",
    "from sklearn.linear_model import LinearRegression\n",
    "from sklearn.model_selection import train_test_split\n",
    "from sklearn.metrics import mean_squared_error, mean_absolute_error, r2_score\n",
    "from sklearn.model_selection import cross_val_score\n",
    "from sklearn.tree import DecisionTreeRegressor\n",
    "from sklearn.ensemble import RandomForestRegressor\n",
    "\n",
    "df = pd.read_csv(\"housing.csv\")\n",
    "df.head()\n",
    "df[\"rooms_per_household\"] = df[\"total_rooms\"] / df[\"households\"]\n",
    "df[\"bedrooms_per_room\"] = df[\"total_bedrooms\"] / df[\"total_rooms\"]\n",
    "df[\"population_per_household\"] = df[\"population\"] / df[\"households\"]\n",
    "\n",
    "\n",
    "num_features = [\"longitude\", \"latitude\", \"housing_median_age\", \n",
    "                \"total_rooms\", \"total_bedrooms\", \"population\", \n",
    "                \"households\", \"median_income\", \"rooms_per_household\", \n",
    "                \"bedrooms_per_room\", \"population_per_household\"]\n",
    "cat_features = [\"ocean_proximity\"]\n",
    "\n",
    "\n",
    "numeric = Pipeline([(\"imputer\", SimpleImputer(strategy= \"median\")), \n",
    "                    (\"scaler\", StandardScaler())])\n",
    "\n",
    "categorical = Pipeline([(\"imputer\", SimpleImputer(strategy = \"most_frequent\")), \n",
    "                        (\"ohe\", OneHotEncoder(handle_unknown= \"ignore\" ))])\n",
    "\n",
    "\n",
    "preprossesor = ColumnTransformer([(\"num\", numeric, num_features), \n",
    "                                  (\"cat\", categorical, cat_features)])\n",
    "\n",
    "X = df[num_features + cat_features]\n",
    "y = df[\"median_house_value\"]\n",
    "\n",
    "X_train, X_test, y_train, y_test = train_test_split(X, y, test_size= 0.2, random_state = 42)\n",
    "\n",
    "clf = Pipeline([(\"preprossesor\", preprossesor), (\"model\", LinearRegression())])\n",
    "\n",
    "clf.fit(X_train, y_train)\n",
    "\n",
    "y_pred = clf.predict(X_test)\n",
    "\n",
    "\n",
    "print(\"mean_squared_error:\", mean_squared_error(y_test, y_pred))\n",
    "print(\"mean_absolute_error:\", mean_absolute_error(y_test, y_pred))\n",
    "print(\"r2_score:\", r2_score(y_test, y_pred))\n",
    "\n",
    "\n",
    "\n",
    "\n",
    "\n",
    "\n",
    "\n",
    "\n"
   ]
  },
  {
   "cell_type": "code",
   "execution_count": null,
   "id": "b393598f",
   "metadata": {},
   "outputs": [
    {
     "name": "stdout",
     "output_type": "stream",
     "text": [
      "linreg 0.572558432796427 ± 0.0724588226502527\n"
     ]
    },
    {
     "name": "stderr",
     "output_type": "stream",
     "text": [
      "c:\\Users\\niros\\OneDrive\\Dokumente\\ML-Learning\\venv\\Lib\\site-packages\\sklearn\\model_selection\\_split.py:811: UserWarning: The least populated class in y has only 1 members, which is less than n_splits=5.\n",
      "  warnings.warn(\n"
     ]
    }
   ],
   "source": [
    "candidates = {\n",
    "    \"linreg\": LinearRegression(),\n",
    "    \"tree\": DecisionTreeRegressor(random_state=42),\n",
    "    \"rf\": RandomForestRegressor(n_estimators=200, random_state=42)\n",
    "}\n",
    "\n",
    "for name, base_model in candidates.items():\n",
    "    model = Pipeline([(\"prep\", preprossesor), (\"model\", base_model)])\n",
    "    scores = cross_val_score(model, X, y, cv=5, scoring=\"r2\")\n",
    "    print(name, scores.mean(), \"±\", scores.std())"
   ]
  }
 ],
 "metadata": {
  "kernelspec": {
   "display_name": "venv",
   "language": "python",
   "name": "python3"
  },
  "language_info": {
   "codemirror_mode": {
    "name": "ipython",
    "version": 3
   },
   "file_extension": ".py",
   "mimetype": "text/x-python",
   "name": "python",
   "nbconvert_exporter": "python",
   "pygments_lexer": "ipython3",
   "version": "3.12.0"
  }
 },
 "nbformat": 4,
 "nbformat_minor": 5
}
